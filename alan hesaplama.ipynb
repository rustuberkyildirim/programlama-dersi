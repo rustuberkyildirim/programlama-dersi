{
 "cells": [
  {
   "cell_type": "markdown",
   "id": "2d3c3892",
   "metadata": {},
   "source": [
    "# üçgenin alanı:\n",
    "üçgenin alanı tabanı ve yüksekliğin çarpımının yarısıdır."
   ]
  },
  {
   "cell_type": "code",
   "execution_count": 3,
   "id": "57370005",
   "metadata": {},
   "outputs": [
    {
     "name": "stdout",
     "output_type": "stream",
     "text": [
      "üçgenin taban değerini giriniz.12\n",
      "üçgenin yüksekliğini giriniz.5\n",
      "girdiğiniz değerlerdeki üçgenin alanı =  30.0\n"
     ]
    }
   ],
   "source": [
    "taban=int(input(\"üçgenin taban değerini giriniz.\"))\n",
    "yukseklik=int(input(\"üçgenin yüksekliğini giriniz.\"))\n",
    "alan = (taban * yukseklik)/2\n",
    "print(\"girdiğiniz değerlerdeki üçgenin alanı = \", alan)"
   ]
  },
  {
   "cell_type": "markdown",
   "id": "a9560045",
   "metadata": {},
   "source": [
    "# dikdörtgenin alanı:\n",
    "dikdörtgenin alanı kenarları çarpımına eşittir."
   ]
  },
  {
   "cell_type": "code",
   "execution_count": 4,
   "id": "e460e28d",
   "metadata": {},
   "outputs": [
    {
     "name": "stdout",
     "output_type": "stream",
     "text": [
      "a kenarının uzunluğunu giriniz12\n",
      "b kenarının uzunluğunu giriniz5\n",
      "girdiğiniz değerlerdeki dikdörtgenin alanı = 60\n"
     ]
    }
   ],
   "source": [
    "a=int(input(\"a kenarının uzunluğunu giriniz\"))\n",
    "b=int(input(\"b kenarının uzunluğunu giriniz\"))\n",
    "alan = a * b\n",
    "print(\"girdiğiniz değerlerdeki dikdörtgenin alanı =\", alan)"
   ]
  },
  {
   "cell_type": "markdown",
   "id": "45553ae1",
   "metadata": {},
   "source": [
    "# yamuğun alanı:\n",
    "yamuğun alanı tabanı ve tavanın toplamının yarısının yükseklik ile çarpımıdır."
   ]
  },
  {
   "cell_type": "code",
   "execution_count": 5,
   "id": "2bde0c99",
   "metadata": {},
   "outputs": [
    {
     "name": "stdout",
     "output_type": "stream",
     "text": [
      "taban değerini giriniz12\n",
      "tavan değerini giriniz5\n",
      "yüksekliği giriniz3\n",
      "girdiğiniz değerlerdeki yamuğun alanı 25.5\n"
     ]
    }
   ],
   "source": [
    "taban = int (input(\"taban değerini giriniz\"))\n",
    "tavan = int (input(\"tavan değerini giriniz\"))\n",
    "yukseklik= int(input(\"yüksekliği giriniz\"))\n",
    "alan = ((taban+ tavan)/2)* yukseklik\n",
    "print(\"girdiğiniz değerlerdeki yamuğun alanı\", alan)"
   ]
  },
  {
   "cell_type": "code",
   "execution_count": null,
   "id": "554ca872",
   "metadata": {},
   "outputs": [],
   "source": []
  }
 ],
 "metadata": {
  "kernelspec": {
   "display_name": "Python 3 (ipykernel)",
   "language": "python",
   "name": "python3"
  },
  "language_info": {
   "codemirror_mode": {
    "name": "ipython",
    "version": 3
   },
   "file_extension": ".py",
   "mimetype": "text/x-python",
   "name": "python",
   "nbconvert_exporter": "python",
   "pygments_lexer": "ipython3",
   "version": "3.11.5"
  }
 },
 "nbformat": 4,
 "nbformat_minor": 5
}
